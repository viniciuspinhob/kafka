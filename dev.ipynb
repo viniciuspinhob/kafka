{
 "cells": [
  {
   "cell_type": "code",
   "execution_count": 3,
   "metadata": {},
   "outputs": [],
   "source": [
    "import pandas as pd"
   ]
  },
  {
   "cell_type": "code",
   "execution_count": 9,
   "metadata": {},
   "outputs": [
    {
     "data": {
      "text/html": [
       "<div>\n",
       "<style scoped>\n",
       "    .dataframe tbody tr th:only-of-type {\n",
       "        vertical-align: middle;\n",
       "    }\n",
       "\n",
       "    .dataframe tbody tr th {\n",
       "        vertical-align: top;\n",
       "    }\n",
       "\n",
       "    .dataframe thead th {\n",
       "        text-align: right;\n",
       "    }\n",
       "</style>\n",
       "<table border=\"1\" class=\"dataframe\">\n",
       "  <thead>\n",
       "    <tr style=\"text-align: right;\">\n",
       "      <th></th>\n",
       "      <th>Date and Hour</th>\n",
       "      <th>Date</th>\n",
       "      <th>StartHour</th>\n",
       "      <th>EndHour</th>\n",
       "      <th>Source</th>\n",
       "      <th>Production</th>\n",
       "    </tr>\n",
       "  </thead>\n",
       "  <tbody>\n",
       "    <tr>\n",
       "      <th>0</th>\n",
       "      <td>2020-07-22 20:00:00+02:00</td>\n",
       "      <td>2020-07-22</td>\n",
       "      <td>20:00:00</td>\n",
       "      <td>21:00:00</td>\n",
       "      <td>Solar</td>\n",
       "      <td>244.0</td>\n",
       "    </tr>\n",
       "    <tr>\n",
       "      <th>1</th>\n",
       "      <td>2020-07-23 07:00:00+02:00</td>\n",
       "      <td>2020-07-23</td>\n",
       "      <td>07:00:00</td>\n",
       "      <td>08:00:00</td>\n",
       "      <td>Solar</td>\n",
       "      <td>223.0</td>\n",
       "    </tr>\n",
       "    <tr>\n",
       "      <th>2</th>\n",
       "      <td>2020-07-23 16:00:00+02:00</td>\n",
       "      <td>2020-07-23</td>\n",
       "      <td>16:00:00</td>\n",
       "      <td>17:00:00</td>\n",
       "      <td>Solar</td>\n",
       "      <td>2517.0</td>\n",
       "    </tr>\n",
       "    <tr>\n",
       "      <th>3</th>\n",
       "      <td>2020-07-23 19:00:00+02:00</td>\n",
       "      <td>2020-07-23</td>\n",
       "      <td>19:00:00</td>\n",
       "      <td>20:00:00</td>\n",
       "      <td>Solar</td>\n",
       "      <td>658.0</td>\n",
       "    </tr>\n",
       "    <tr>\n",
       "      <th>4</th>\n",
       "      <td>2020-07-23 23:00:00+02:00</td>\n",
       "      <td>2020-07-23</td>\n",
       "      <td>23:00:00</td>\n",
       "      <td>24:00:00</td>\n",
       "      <td>Solar</td>\n",
       "      <td>0.0</td>\n",
       "    </tr>\n",
       "  </tbody>\n",
       "</table>\n",
       "</div>"
      ],
      "text/plain": [
       "               Date and Hour        Date StartHour   EndHour Source  \\\n",
       "0  2020-07-22 20:00:00+02:00  2020-07-22  20:00:00  21:00:00  Solar   \n",
       "1  2020-07-23 07:00:00+02:00  2020-07-23  07:00:00  08:00:00  Solar   \n",
       "2  2020-07-23 16:00:00+02:00  2020-07-23  16:00:00  17:00:00  Solar   \n",
       "3  2020-07-23 19:00:00+02:00  2020-07-23  19:00:00  20:00:00  Solar   \n",
       "4  2020-07-23 23:00:00+02:00  2020-07-23  23:00:00  24:00:00  Solar   \n",
       "\n",
       "   Production  \n",
       "0       244.0  \n",
       "1       223.0  \n",
       "2      2517.0  \n",
       "3       658.0  \n",
       "4         0.0  "
      ]
     },
     "execution_count": 9,
     "metadata": {},
     "output_type": "execute_result"
    }
   ],
   "source": [
    "df = pd.read_csv(\"data/intermittent-renewables-production-france.csv\")\n",
    "df.drop(columns=['dayOfYear', 'dayName', 'monthName'], inplace=True)\n",
    "df.rename([])\n",
    "df.to_csv('data/intermittent-renewables-production-france_FILTERED.csv')\n",
    "df.head()\n"
   ]
  },
  {
   "cell_type": "code",
   "execution_count": 14,
   "metadata": {},
   "outputs": [
    {
     "data": {
      "text/html": [
       "<div>\n",
       "<style scoped>\n",
       "    .dataframe tbody tr th:only-of-type {\n",
       "        vertical-align: middle;\n",
       "    }\n",
       "\n",
       "    .dataframe tbody tr th {\n",
       "        vertical-align: top;\n",
       "    }\n",
       "\n",
       "    .dataframe thead th {\n",
       "        text-align: right;\n",
       "    }\n",
       "</style>\n",
       "<table border=\"1\" class=\"dataframe\">\n",
       "  <thead>\n",
       "    <tr style=\"text-align: right;\">\n",
       "      <th></th>\n",
       "      <th>Date and Hour</th>\n",
       "      <th>Date</th>\n",
       "      <th>StartHour</th>\n",
       "      <th>EndHour</th>\n",
       "      <th>Source</th>\n",
       "      <th>Production</th>\n",
       "    </tr>\n",
       "  </thead>\n",
       "  <tbody>\n",
       "    <tr>\n",
       "      <th>45</th>\n",
       "      <td>2020-08-01 02:00:00+02:00</td>\n",
       "      <td>2020-08-01</td>\n",
       "      <td>02:00:00</td>\n",
       "      <td>03:00:00</td>\n",
       "      <td>Wind</td>\n",
       "      <td>2073.0</td>\n",
       "    </tr>\n",
       "    <tr>\n",
       "      <th>46</th>\n",
       "      <td>2020-08-01 06:00:00+02:00</td>\n",
       "      <td>2020-08-01</td>\n",
       "      <td>06:00:00</td>\n",
       "      <td>07:00:00</td>\n",
       "      <td>Wind</td>\n",
       "      <td>1742.0</td>\n",
       "    </tr>\n",
       "    <tr>\n",
       "      <th>47</th>\n",
       "      <td>2020-08-01 13:00:00+02:00</td>\n",
       "      <td>2020-08-01</td>\n",
       "      <td>13:00:00</td>\n",
       "      <td>14:00:00</td>\n",
       "      <td>Wind</td>\n",
       "      <td>1185.0</td>\n",
       "    </tr>\n",
       "    <tr>\n",
       "      <th>48</th>\n",
       "      <td>2020-08-01 14:00:00+02:00</td>\n",
       "      <td>2020-08-01</td>\n",
       "      <td>14:00:00</td>\n",
       "      <td>15:00:00</td>\n",
       "      <td>Wind</td>\n",
       "      <td>1544.0</td>\n",
       "    </tr>\n",
       "    <tr>\n",
       "      <th>49</th>\n",
       "      <td>2020-08-01 19:00:00+02:00</td>\n",
       "      <td>2020-08-01</td>\n",
       "      <td>19:00:00</td>\n",
       "      <td>20:00:00</td>\n",
       "      <td>Wind</td>\n",
       "      <td>3919.0</td>\n",
       "    </tr>\n",
       "  </tbody>\n",
       "</table>\n",
       "</div>"
      ],
      "text/plain": [
       "                Date and Hour        Date StartHour   EndHour Source  \\\n",
       "45  2020-08-01 02:00:00+02:00  2020-08-01  02:00:00  03:00:00   Wind   \n",
       "46  2020-08-01 06:00:00+02:00  2020-08-01  06:00:00  07:00:00   Wind   \n",
       "47  2020-08-01 13:00:00+02:00  2020-08-01  13:00:00  14:00:00   Wind   \n",
       "48  2020-08-01 14:00:00+02:00  2020-08-01  14:00:00  15:00:00   Wind   \n",
       "49  2020-08-01 19:00:00+02:00  2020-08-01  19:00:00  20:00:00   Wind   \n",
       "\n",
       "    Production  \n",
       "45      2073.0  \n",
       "46      1742.0  \n",
       "47      1185.0  \n",
       "48      1544.0  \n",
       "49      3919.0  "
      ]
     },
     "execution_count": 14,
     "metadata": {},
     "output_type": "execute_result"
    }
   ],
   "source": [
    "df_wind = df[df['Source'] == 'Wind']\n",
    "df_wind.head()"
   ]
  },
  {
   "cell_type": "code",
   "execution_count": 18,
   "metadata": {},
   "outputs": [],
   "source": [
    "for i, r in df_wind.iterrows():\n",
    "    pass"
   ]
  },
  {
   "cell_type": "code",
   "execution_count": null,
   "metadata": {},
   "outputs": [],
   "source": []
  },
  {
   "cell_type": "code",
   "execution_count": 19,
   "metadata": {},
   "outputs": [
    {
     "data": {
      "text/plain": [
       "Index(['Date and Hour', 'Date', 'StartHour', 'EndHour', 'Source',\n",
       "       'Production'],\n",
       "      dtype='object')"
      ]
     },
     "execution_count": 19,
     "metadata": {},
     "output_type": "execute_result"
    }
   ],
   "source": [
    "r.keys()\n"
   ]
  },
  {
   "cell_type": "code",
   "execution_count": 20,
   "metadata": {},
   "outputs": [
    {
     "data": {
      "text/plain": [
       "pandas.core.series.Series"
      ]
     },
     "execution_count": 20,
     "metadata": {},
     "output_type": "execute_result"
    }
   ],
   "source": [
    "type(r)"
   ]
  },
  {
   "cell_type": "code",
   "execution_count": 21,
   "metadata": {},
   "outputs": [
    {
     "data": {
      "text/plain": [
       "{'Date and Hour': '2023-06-30 11:00:00+02:00',\n",
       " 'Date': '2023-06-30',\n",
       " 'StartHour': '11:00:00',\n",
       " 'EndHour': '12:00:00',\n",
       " 'Source': 'Wind',\n",
       " 'Production': 2684.0}"
      ]
     },
     "execution_count": 21,
     "metadata": {},
     "output_type": "execute_result"
    }
   ],
   "source": [
    "r.to_dict()"
   ]
  },
  {
   "cell_type": "code",
   "execution_count": null,
   "metadata": {},
   "outputs": [],
   "source": []
  },
  {
   "cell_type": "code",
   "execution_count": null,
   "metadata": {},
   "outputs": [],
   "source": [
    "for k in r.keys():\n",
    "    "
   ]
  },
  {
   "cell_type": "code",
   "execution_count": null,
   "metadata": {},
   "outputs": [],
   "source": []
  },
  {
   "cell_type": "code",
   "execution_count": null,
   "metadata": {},
   "outputs": [],
   "source": []
  }
 ],
 "metadata": {
  "kernelspec": {
   "display_name": ".venv",
   "language": "python",
   "name": "python3"
  },
  "language_info": {
   "codemirror_mode": {
    "name": "ipython",
    "version": 3
   },
   "file_extension": ".py",
   "mimetype": "text/x-python",
   "name": "python",
   "nbconvert_exporter": "python",
   "pygments_lexer": "ipython3",
   "version": "3.11.4"
  },
  "orig_nbformat": 4
 },
 "nbformat": 4,
 "nbformat_minor": 2
}
